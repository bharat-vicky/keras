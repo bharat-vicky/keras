{
 "cells": [
  {
   "cell_type": "code",
   "execution_count": 12,
   "id": "a4929d2b-0225-40a0-b330-339e0b560b4e",
   "metadata": {},
   "outputs": [],
   "source": [
    "import cv2"
   ]
  },
  {
   "cell_type": "code",
   "execution_count": 8,
   "id": "26081aa4-106c-40de-b287-4169cc5ed746",
   "metadata": {},
   "outputs": [],
   "source": [
    "old_img = cv2.imread(\"img10.jpg\")\n",
    "old_img = cv2.resize(old_img,(320,320))\n",
    "new_img = cv2.line(img = old_img , pt1=(100,29), pt2=(200,27), color = (255,0,0) , thickness= 4 , lineType=4 )\n",
    "cv2.imshow(\"bharat\",new_img)\n",
    "cv2.waitKey(0)\n",
    "cv2.destroyAllWindows()"
   ]
  },
  {
   "cell_type": "code",
   "execution_count": 17,
   "id": "f45c212c-a4f1-4114-85be-694af0f34dbd",
   "metadata": {},
   "outputs": [],
   "source": [
    "old_img = cv2.imread(\"img10.jpg\")\n",
    "old_img = cv2.resize(old_img,(320,320))\n",
    "txt_img = cv2.putText(img = old_img, text= \"Love\", org= (100,20), fontFace = 2, fontScale = 1, color = (0,255,0), thickness= 2, lineType= 16,bottomLeftOrigin= False)\n",
    "\n",
    "new_img = cv2.rectangle(img = txt_img , pt1=(100,27), pt2=(200,150), color = (255,0,0) , thickness= 4 , lineType=16 )\n",
    "cv2.imshow(\"bharat\",new_img)\n",
    "cv2.waitKey(0)\n",
    "cv2.destroyAllWindows()"
   ]
  },
  {
   "cell_type": "code",
   "execution_count": null,
   "id": "b686df32-ce2d-4f2e-a0d1-2ace1379cfef",
   "metadata": {},
   "outputs": [],
   "source": [
    "import cv2"
   ]
  },
  {
   "cell_type": "code",
   "execution_count": 26,
   "id": "88ffb928-ffdb-4930-b03f-19f00ac385e5",
   "metadata": {},
   "outputs": [],
   "source": [
    "old_img = cv2.imread(\"img02.jpg\")\n",
    "old_img = cv2.resize(old_img,(540,675))\n",
    "\n",
    "new_img = cv2.circle(img = old_img ,center = (270,130), radius= 90, color = (0,0,255), thickness = 4, lineType = 16)\n",
    "cv2.imshow(\"bharat\",old_img)\n",
    "cv2.waitKey(0)\n",
    "cv2.destroyAllWindows()"
   ]
  },
  {
   "cell_type": "code",
   "execution_count": 33,
   "id": "3d9fdbbc-98e6-450b-bba4-bef95bb0109b",
   "metadata": {},
   "outputs": [],
   "source": [
    "old_img = cv2.imread(\"img12.jpg\")\n",
    "old_img = cv2.resize(old_img,(540,540))\n",
    "\n",
    "new_img = cv2.ellipse(img = old_img ,center = (285,140),axes = (100,140), angle = 25, startAngle = 0,endAngle=360, color = (0,255,0), thickness = 4, lineType = 16)\n",
    "cv2.imshow(\"bharat\",old_img)\n",
    "cv2.waitKey(0)\n",
    "cv2.destroyAllWindows()"
   ]
  },
  {
   "cell_type": "code",
   "execution_count": null,
   "id": "7cdc7368-4ce9-47ec-aa70-1ebe6c80b0c3",
   "metadata": {},
   "outputs": [],
   "source": []
  }
 ],
 "metadata": {
  "kernelspec": {
   "display_name": "Python 3 (ipykernel)",
   "language": "python",
   "name": "python3"
  },
  "language_info": {
   "codemirror_mode": {
    "name": "ipython",
    "version": 3
   },
   "file_extension": ".py",
   "mimetype": "text/x-python",
   "name": "python",
   "nbconvert_exporter": "python",
   "pygments_lexer": "ipython3",
   "version": "3.12.4"
  }
 },
 "nbformat": 4,
 "nbformat_minor": 5
}
